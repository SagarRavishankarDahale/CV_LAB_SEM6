{
  "nbformat": 4,
  "nbformat_minor": 0,
  "metadata": {
    "colab": {
      "provenance": []
    },
    "kernelspec": {
      "name": "python3",
      "display_name": "Python 3"
    },
    "language_info": {
      "name": "python"
    }
  },
  "cells": [
    {
      "cell_type": "code",
      "source": [
        "#name:sagar ravishankar dahale\n",
        "#prn:1032211914\n",
        "#div:A1\n",
        "#Batch:A4"
      ],
      "metadata": {
        "id": "z-mAJczLXIZW"
      },
      "execution_count": null,
      "outputs": []
    },
    {
      "cell_type": "code",
      "execution_count": 2,
      "metadata": {
        "colab": {
          "base_uri": "https://localhost:8080/",
          "height": 480
        },
        "id": "e1OJvpNjUN4H",
        "outputId": "45a9b854-32f9-4ee0-ef60-fb7431977b9c"
      },
      "outputs": [
        {
          "output_type": "display_data",
          "data": {
            "text/plain": [
              "<Figure size 1000x500 with 2 Axes>"
            ],
            "image/png": "[encoded data removed]"
          },
          "metadata": {}
        },
        {
          "output_type": "stream",
          "name": "stdout",
          "text": [
            "Chain Code for Contour \n",
            " 1 : [3, 2, 3, 0, 0, 2, 7, 6, 6, 6, 6, 6]\n",
            "Chain Code for Contour \n",
            " 2 : [2, 4, 6, 6]\n"
          ]
        }
      ],
      "source": [
        "import cv2\n",
        "import numpy as np\n",
        "import matplotlib.pyplot as plt\n",
        "\n",
        "# Load the image\n",
        "image = cv2.imread('no4.jpg')\n",
        "\n",
        "# Convert the image to grayscale\n",
        "gray_image = cv2.cvtColor(image, cv2.COLOR_BGR2GRAY)\n",
        "\n",
        "# Threshold the image to get a binary image\n",
        "_, binary_image = cv2.threshold(gray_image, 127, 255, cv2.THRESH_BINARY_INV)\n",
        "# Find contours\n",
        "contours, _ = cv2.findContours(binary_image, cv2.RETR_TREE, cv2.CHAIN_APPROX_NONE)\n",
        "\n",
        "# Display the original image and contour image using pyplot\n",
        "plt.figure(figsize=(10, 5))\n",
        "\n",
        "# Original image\n",
        "plt.subplot(1, 2, 1)\n",
        "plt.imshow(cv2.cvtColor(image, cv2.COLOR_BGR2RGB))\n",
        "plt.title('Original Image')\n",
        "plt.axis('off')\n",
        "\n",
        "# Contour image\n",
        "contour_image = np.zeros_like(image)\n",
        "for contour in contours:\n",
        "    cv2.drawContours(contour_image, [contour], -1, (0, 255, 0), 2)\n",
        "\n",
        "plt.subplot(1, 2, 2)\n",
        "plt.imshow(cv2.cvtColor(contour_image, cv2.COLOR_BGR2RGB))\n",
        "plt.title('Contours')\n",
        "plt.axis('off')\n",
        "plt.show()\n",
        "\n",
        "# Generate chain code for each contour\n",
        "for i, contour in enumerate(contours):\n",
        "    chain_code = []\n",
        "    for j in range(1, len(contour)):\n",
        "      if j%30==0:\n",
        "        # Calculate the direction from the previous point to the current one\n",
        "        dx = contour[j][0][0] - contour[j-1][0][0]\n",
        "        dy = contour[j][0][1] - contour[j-1][0][1]\n",
        "\n",
        "        # Encode the direction into a chain code\n",
        "        if dx == 1 and dy == 0:\n",
        "            chain_code.append(0)\n",
        "        elif dx == 1 and dy == 1:\n",
        "            chain_code.append(1)\n",
        "        elif dx == 0 and dy == 1:\n",
        "            chain_code.append(2)\n",
        "        elif dx == -1 and dy == 1:\n",
        "            chain_code.append(3)\n",
        "        elif dx == -1 and dy == 0:\n",
        "            chain_code.append(4)\n",
        "        elif dx == -1 and dy == -1:\n",
        "            chain_code.append(5)\n",
        "        elif dx == 0 and dy == -1:\n",
        "            chain_code.append(6)\n",
        "        elif dx == 1 and dy == -1:\n",
        "            chain_code.append(7)\n",
        "\n",
        "    # Print the chain code for each contour\n",
        "    print(\"Chain Code for Contour \\n\", i+1, \":\", chain_code)\n"
      ]
    },
    {
      "cell_type": "code",
      "source": [
        "import cv2\n",
        "import numpy as np\n",
        "import matplotlib.pyplot as plt\n",
        "\n",
        "# Load the image\n",
        "image = cv2.imread('no7.png')\n",
        "\n",
        "# Convert the image to grayscale\n",
        "gray_image = cv2.cvtColor(image, cv2.COLOR_BGR2GRAY)\n",
        "\n",
        "# Threshold the image to get a binary image\n",
        "_, binary_image = cv2.threshold(gray_image, 127, 255, cv2.THRESH_BINARY_INV)\n",
        "# Find contours\n",
        "contours, _ = cv2.findContours(binary_image, cv2.RETR_TREE, cv2.CHAIN_APPROX_NONE)\n",
        "\n",
        "# Display the original image and contour image using pyplot\n",
        "plt.figure(figsize=(10, 5))\n",
        "\n",
        "# Original image\n",
        "plt.subplot(1, 2, 1)\n",
        "plt.imshow(cv2.cvtColor(image, cv2.COLOR_BGR2RGB),cmap='viridis')\n",
        "plt.title('Original Image')\n",
        "plt.axis('off')\n",
        "# Contour image\n",
        "contour_image = np.zeros_like(image)\n",
        "for contour in contours:\n",
        "    cv2.drawContours(contour_image, [contour], -1, (0, 255, 0), 2)\n",
        "\n",
        "plt.subplot(1, 2, 2)\n",
        "plt.imshow(cv2.cvtColor(contour_image, cv2.COLOR_BGR2RGB))\n",
        "plt.title('Contours')\n",
        "plt.axis('off')\n",
        "\n",
        "plt.show()\n",
        "\n",
        "# Generate chain code for each contour\n",
        "for i, contour in enumerate(contours):\n",
        "    chain_code = []\n",
        "    for j in range(1, len(contour)):\n",
        "      if j%30==0:\n",
        "        # Calculate the direction from the previous point to the current one\n",
        "        dx = contour[j][0][0] - contour[j-1][0][0]\n",
        "        dy = contour[j][0][1] - contour[j-1][0][1]\n",
        "\n",
        "        # Encode the direction into a chain code\n",
        "        if dx == 1 and dy == 0:\n",
        "            chain_code.append(0)\n",
        "        elif dx == 1 and dy == 1:\n",
        "            chain_code.append(1)\n",
        "        elif dx == 0 and dy == 1:\n",
        "            chain_code.append(2)\n",
        "        elif dx == -1 and dy == 1:\n",
        "            chain_code.append(3)\n",
        "        elif dx == -1 and dy == 0:\n",
        "            chain_code.append(4)\n",
        "        elif dx == -1 and dy == -1:\n",
        "            chain_code.append(5)\n",
        "        elif dx == 0 and dy == -1:\n",
        "            chain_code.append(6)\n",
        "        elif dx == 1 and dy == -1:\n",
        "            chain_code.append(7)\n",
        "\n",
        "    # Print the chain code for each contour\n",
        "    print(\"Chain Code for Contour \\n\", i+1, \":\", chain_code)\n"
      ],
      "metadata": {
        "colab": {
          "base_uri": "https://localhost:8080/",
          "height": 479
        },
        "id": "3-lgV9-UVqpp",
        "outputId": "297df75d-4906-4655-c6f4-02e612567e05"
      },
      "execution_count": 3,
      "outputs": [
        {
          "output_type": "display_data",
          "data": {
            "text/plain": [
              "<Figure size 1000x500 with 2 Axes>"
            ],
            "image/png": "[encoded data removed]"
          },
          "metadata": {}
        },
        {
          "output_type": "stream",
          "name": "stdout",
          "text": [
            "Chain Code for Contour \n",
            " 1 : [2, 7, 0, 0, 0, 2, 3, 3, 3, 3, 7, 6, 7, 7, 6, 7, 4, 4, 4, 4]\n"
          ]
        }
      ]
    },
    {
      "cell_type": "code",
      "source": [
        "def generate_chain_code(image_path, sampling_step=10):\n",
        "    # Load the image as a grayscale image\n",
        "    image = cv2.imread(image_path, cv2.IMREAD_GRAYSCALE)\n",
        "\n",
        "    # Threshold the image to obtain a binary image\n",
        "    _, binary_image = cv2.threshold(image, 128, 255, cv2.THRESH_BINARY_INV | cv2.THRESH_OTSU)\n",
        "\n",
        "    # Find the contours of the digit\n",
        "    contours, _ = cv2.findContours(binary_image, cv2.RETR_EXTERNAL, cv2.CHAIN_APPROX_SIMPLE)\n",
        "\n",
        "    # Assuming there's only one contour, you can choose the appropriate one based on your image\n",
        "    contour = max(contours, key=cv2.contourArea)\n",
        "\n",
        "    # Sample points along the contour\n",
        "    sampled_points = contour[::sampling_step]\n",
        "\n",
        "    # Initialize the chain code\n",
        "    chain_code = []\n",
        "\n",
        "    # Start from the top-left pixel of the digit\n",
        "    x, y = sampled_points[0][0]\n",
        "\n",
        "    # Define a function that returns the chain code label for the next pixel in the boundary\n",
        "    def next_pixel(pixel, width, height):\n",
        "        x, y = pixel\n",
        "        labels = [\n",
        "            (0, -1), (1, -1), (1, 0), (1, 1), (0, 1), (-1, 1), (-1, 0), (-1, -1)\n",
        "        ]\n",
        "        for label, (dx, dy) in enumerate(labels):\n",
        "            nx, ny = x + dx, y + dy\n",
        "            if 0 <= nx < width and 0 <= ny < height and binary_image[ny, nx] == 0:\n",
        "                return label\n",
        "        return -1\n",
        "\n",
        "    # Iterate over the sampled points\n",
        "    for i in range(1, len(sampled_points)):\n",
        "        label = next_pixel((x, y), image.shape[1], image.shape[0])\n",
        "        if label != -1:\n",
        "            chain_code.append(label)\n",
        "        x, y = sampled_points[i][0]\n",
        "\n",
        "    return chain_code\n",
        "\n",
        "chain_code_1 = generate_chain_code('no4.jpg')\n",
        "print(\"Chain Code - Image 1:\", chain_code_1)\n",
        "\n",
        "# Process another image\n",
        "chain_code_2 = generate_chain_code('no7.png')\n",
        "print(\"\\nChain Code - Image 2:\", chain_code_2)\n",
        "\n",
        "# Compare chain codes to check if shapes are similar\n",
        "if chain_code_1 == chain_code_2:\n",
        "    print(\"Shapes are similar.\")\n",
        "else:\n",
        "    print(\"Shapes are different.\")\n",
        "\n",
        "\n",
        "# Display the difference between chain codes\n",
        "difference_code = [abs(a - b) for a, b in zip(chain_code_1, chain_code_2)]\n",
        "\n",
        "\n",
        "# Display the difference code\n",
        "print(\"\\nDifference:\", difference_code)"
      ],
      "metadata": {
        "colab": {
          "base_uri": "https://localhost:8080/"
        },
        "id": "IbsNBA87WzI5",
        "outputId": "af98c9c3-531a-497c-d91c-cfb732c9d63c"
      },
      "execution_count": 5,
      "outputs": [
        {
          "output_type": "stream",
          "name": "stdout",
          "text": [
            "Chain Code - Image 1: [0, 6, 6, 6, 6, 6, 3, 5, 1, 1]\n",
            "\n",
            "Chain Code - Image 2: [0, 1, 3, 6, 6, 6, 6, 6, 6, 6, 6, 6, 6, 6, 6, 6, 6, 1, 1, 1, 1, 1, 1, 1, 1, 1, 1, 1, 1, 1, 1, 1]\n",
            "Shapes are different.\n",
            "\n",
            "Difference: [0, 5, 3, 0, 0, 0, 3, 1, 5, 5]\n"
          ]
        }
      ]
    }
  ]
}